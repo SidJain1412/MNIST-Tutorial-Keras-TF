{
 "cells": [
  {
   "cell_type": "markdown",
   "metadata": {},
   "source": [
    "# Linear predictions on the MNIST dataset"
   ]
  },
  {
   "cell_type": "markdown",
   "metadata": {},
   "source": [
    "MNIST Dataset contains 60000 images of hand drawn digits. We will train a linear model to classify the images"
   ]
  },
  {
   "cell_type": "markdown",
   "metadata": {},
   "source": [
    "Downloading the dataset"
   ]
  },
  {
   "cell_type": "code",
   "execution_count": 38,
   "metadata": {},
   "outputs": [
    {
     "name": "stdout",
     "output_type": "stream",
     "text": [
      "Extracting data/MNIST/train-images-idx3-ubyte.gz\n",
      "Extracting data/MNIST/train-labels-idx1-ubyte.gz\n",
      "Extracting data/MNIST/t10k-images-idx3-ubyte.gz\n",
      "Extracting data/MNIST/t10k-labels-idx1-ubyte.gz\n"
     ]
    }
   ],
   "source": [
    "from tensorflow.examples.tutorials.mnist import input_data\n",
    "data=input_data.read_data_sets(\"data/MNIST/\",one_hot=True)"
   ]
  },
  {
   "cell_type": "code",
   "execution_count": 39,
   "metadata": {},
   "outputs": [],
   "source": [
    "%matplotlib inline\n",
    "import matplotlib.pyplot as plt\n",
    "import tensorflow as tf\n",
    "import numpy as np\n",
    "from sklearn.metrics import confusion_matrix"
   ]
  },
  {
   "cell_type": "code",
   "execution_count": 40,
   "metadata": {},
   "outputs": [
    {
     "name": "stdout",
     "output_type": "stream",
     "text": [
      "Size of training set:\t  55000\n",
      "Size of test set:\t  10000\n",
      "Size of validation set:\t  5000\n"
     ]
    }
   ],
   "source": [
    "print(\"Size of training set:\\t \",len(data.train.labels))\n",
    "print(\"Size of test set:\\t \",len(data.test.labels))\n",
    "print(\"Size of validation set:\\t \",len(data.validation.labels))"
   ]
  },
  {
   "cell_type": "code",
   "execution_count": 41,
   "metadata": {},
   "outputs": [
    {
     "data": {
      "text/plain": [
       "array([0., 0., 0., 0., 0., 0., 0., 1., 0., 0.])"
      ]
     },
     "execution_count": 41,
     "metadata": {},
     "output_type": "execute_result"
    }
   ],
   "source": [
    "data.test.labels[0]\n",
    "#The labels are one hot encoded, meaning the array below stands for 7"
   ]
  },
  {
   "cell_type": "code",
   "execution_count": 42,
   "metadata": {},
   "outputs": [
    {
     "data": {
      "text/plain": [
       "array([7, 2, 1, 0, 4], dtype=int64)"
      ]
     },
     "execution_count": 42,
     "metadata": {},
     "output_type": "execute_result"
    }
   ],
   "source": [
    "#For performance measures, making a new array with actual numbers from the one hot encoded values\n",
    "data.test.cls=np.array([label.argmax() for label in data.test.labels])\n",
    "data.test.cls[:5]"
   ]
  },
  {
   "cell_type": "code",
   "execution_count": 43,
   "metadata": {},
   "outputs": [],
   "source": [
    "#Declaring sizes and shapes for input shapes\n",
    "#Images are 28x28\n",
    "img_size=28\n",
    "img_size_flat=28*28\n",
    "img_shape=(img_size,img_size)\n",
    "#There are 10 numbers\n",
    "num_classes=10"
   ]
  },
  {
   "cell_type": "code",
   "execution_count": 44,
   "metadata": {},
   "outputs": [],
   "source": [
    "#Helper function for plotting sample images\n",
    "\n",
    "def img_plot(images,cls_true,cls_pred=None):\n",
    "    #Check if image array of length nine was input\n",
    "    assert len(images==9)\n",
    "    fig,axes=plt.subplots(3,3)\n",
    "    #Adjusting the plot\n",
    "    fig.subplots_adjust(hspace=0.3,wspace=0.3)\n",
    "    for i,axis in enumerate(axes.flat):\n",
    "        #Show the image in correct size, black and white\n",
    "        axis.imshow(images[i].reshape(img_shape),cmap='binary')\n",
    "        \n",
    "        if cls_pred is None:\n",
    "            #If predicted classes were not passed as parameter\n",
    "            xlabel=\"True: \"+str(cls_true[i])\n",
    "        else:\n",
    "            xlabel=\"True: \"+str(cls_true[i])+\" Predicted: \"+str(cls_pred[i])\n",
    "        \n",
    "        #Setting label and removing ticks from the plots\n",
    "        axis.set_xlabel(xlabel)\n",
    "        axis.set_xticks([])\n",
    "        axis.set_yticks([])\n",
    "    plt.show()"
   ]
  },
  {
   "cell_type": "code",
   "execution_count": 45,
   "metadata": {},
   "outputs": [
    {
     "data": {
      "image/png": "[encoded data removed]",
      "text/plain": [
       "<matplotlib.figure.Figure at 0x2b5cd492320>"
      ]
     },
     "metadata": {},
     "output_type": "display_data"
    }
   ],
   "source": [
    "#Testing the img plot function\n",
    "\n",
    "images=data.test.images[:9]\n",
    "cls_true=data.test.cls[:9]\n",
    "img_plot(images,cls_true)"
   ]
  },
  {
   "cell_type": "markdown",
   "metadata": {},
   "source": [
    "Making the linear model using tensorflow placeholders and variables"
   ]
  },
  {
   "cell_type": "code",
   "execution_count": 46,
   "metadata": {},
   "outputs": [],
   "source": [
    "#Placeholder for input image\n",
    "x=tf.placeholder(tf.float32,[None,img_size_flat])\n",
    "#Placeholder for true labels associated with images that were given as input\n",
    "y_true=tf.placeholder(tf.float32,[None,num_classes])\n",
    "#Placeholder for true class\n",
    "y_true_cls=tf.placeholder(tf.int64,[None])"
   ]
  },
  {
   "cell_type": "code",
   "execution_count": 47,
   "metadata": {},
   "outputs": [],
   "source": [
    "#Variables declaration\n",
    "#These weights and biases are going to be optimized by our model\n",
    "#We have the formula y=Wx+B where y is the output\n",
    "#Optimal values of W and B will give us an accurate y\n",
    "weights=tf.Variable(tf.zeros([img_size_flat,num_classes]))\n",
    "biases=tf.Variable(tf.zeros([num_classes]))"
   ]
  },
  {
   "cell_type": "code",
   "execution_count": 48,
   "metadata": {},
   "outputs": [],
   "source": [
    "#y=wx+b\n",
    "logits=tf.matmul(x,weights)+biases"
   ]
  },
  {
   "cell_type": "code",
   "execution_count": 49,
   "metadata": {},
   "outputs": [],
   "source": [
    "#Logits stores 10 values, the weights of the predicted number\n",
    "y_pred=tf.nn.softmax(logits)\n",
    "#Softmax function find e^yi/sum(e^yi)\n",
    "#So basically we get probabilities of each image representing each digit\n",
    "y_pred_cls=tf.argmax(y_pred,axis=1)\n",
    "#Argmax finds the largest value in the softmax function, this is our prediction"
   ]
  },
  {
   "cell_type": "code",
   "execution_count": 50,
   "metadata": {},
   "outputs": [],
   "source": [
    "#To see how well model is working and change values of weights and biases accordingly\n",
    "#We use cross entropy. This is a measure that compares model predictions to y_true\n",
    "cross_entropy=tf.nn.softmax_cross_entropy_with_logits(logits=logits,labels=y_true)"
   ]
  },
  {
   "cell_type": "code",
   "execution_count": 51,
   "metadata": {},
   "outputs": [],
   "source": [
    "#This is the difference of predicted values and real values\n",
    "cost=tf.reduce_mean(cross_entropy)"
   ]
  },
  {
   "cell_type": "code",
   "execution_count": 52,
   "metadata": {},
   "outputs": [],
   "source": [
    "#We use RMS optimizer with a learning rate of 0.5 to minimize the cost\n",
    "optimizer=tf.train.RMSPropOptimizer(learning_rate=0.5).minimize(cost)"
   ]
  },
  {
   "cell_type": "code",
   "execution_count": 53,
   "metadata": {},
   "outputs": [],
   "source": [
    "#Correct predictions are where predicted and true classes are equal\n",
    "correct_prediction=tf.equal(y_pred_cls,y_true_cls)\n",
    "accuracy=tf.reduce_mean(tf.cast(correct_prediction,tf.float32))"
   ]
  },
  {
   "cell_type": "markdown",
   "metadata": {},
   "source": [
    "Starting the tensorflow session"
   ]
  },
  {
   "cell_type": "code",
   "execution_count": 54,
   "metadata": {},
   "outputs": [],
   "source": [
    "session=tf.Session()"
   ]
  },
  {
   "cell_type": "code",
   "execution_count": 55,
   "metadata": {},
   "outputs": [],
   "source": [
    "#Initialize all variables\n",
    "session.run(tf.global_variables_initializer())"
   ]
  },
  {
   "cell_type": "code",
   "execution_count": 56,
   "metadata": {},
   "outputs": [],
   "source": [
    "#Train these many images at the same time\n",
    "batch_size=200"
   ]
  },
  {
   "cell_type": "code",
   "execution_count": 57,
   "metadata": {},
   "outputs": [],
   "source": [
    "#Main function that optimizes the model\n",
    "def optimize(num_iterations):\n",
    "    for i in range(num_iterations):\n",
    "        x_batch,y_true_batch=data.train.next_batch(batch_size)\n",
    "        #Put the batch into a dictionary for the placeholders x and y_true\n",
    "        feed_dict_train={x:x_batch,y_true:y_true_batch}\n",
    "        session.run(optimizer,feed_dict=feed_dict_train)"
   ]
  },
  {
   "cell_type": "code",
   "execution_count": 58,
   "metadata": {},
   "outputs": [],
   "source": [
    "#Test dictionary\n",
    "feed_dict_test={x:data.test.images,y_true:data.test.labels,y_true_cls:data.test.cls}"
   ]
  },
  {
   "cell_type": "code",
   "execution_count": 59,
   "metadata": {},
   "outputs": [],
   "source": [
    "#Function to print accuracy of the model\n",
    "def print_accuracy():\n",
    "    acc=session.run(accuracy,feed_dict=feed_dict_test)\n",
    "    print(\"Accuracy on test-set is : \",acc*100)"
   ]
  },
  {
   "cell_type": "code",
   "execution_count": 60,
   "metadata": {},
   "outputs": [],
   "source": [
    "#Prints the confusion matrix, where we can see predicted values\n",
    "def print_confusion_matrix():\n",
    "    #Get true classifications for the test set\n",
    "    cls_true=data.test.cls\n",
    "    #Get predicted classifications for the test set\n",
    "    cls_pred=session.run(y_pred_cls,feed_dict=feed_dict_test)\n",
    "    \n",
    "    #Get confusion matrix using sklearn\n",
    "    #Pass true and predicted values to the function\n",
    "    cm=confusion_matrix(y_true=cls_true,y_pred=cls_pred)\n",
    "    \n",
    "    #This prints the confusion matrix as text\n",
    "    print(cm)\n",
    "    \n",
    "    #This prints it as a plot\n",
    "    plt.imshow(cm,interpolation='nearest',cmap=plt.cm.Blues)\n",
    "    \n",
    "    #Make small visual changes to the plot\n",
    "    \n",
    "    plt.tight_layout()\n",
    "    plt.colorbar()\n",
    "    tick_marks=np.arange(num_classes)\n",
    "    plt.xticks(tick_marks,range(num_classes))\n",
    "    plt.yticks(tick_marks,range(num_classes))\n",
    "    plt.xlabel(\"Predicted\")\n",
    "    plt.ylabel(\"True\")\n",
    "    \n",
    "    plt.show()"
   ]
  },
  {
   "cell_type": "code",
   "execution_count": 61,
   "metadata": {},
   "outputs": [],
   "source": [
    "def plot_example_errors():\n",
    "    # Use TensorFlow to get a list of boolean values\n",
    "    # whether each test-image has been correctly classified,\n",
    "    # and a list for the predicted class of each image.\n",
    "    correct, cls_pred = session.run([correct_prediction, y_pred_cls],\n",
    "                                    feed_dict=feed_dict_test)\n",
    "\n",
    "    # Negate the boolean array.\n",
    "    incorrect = (correct == False)\n",
    "    \n",
    "    # Get the images from the test-set that have been\n",
    "    # incorrectly classified.\n",
    "    images = data.test.images[incorrect]\n",
    "    \n",
    "    # Get the predicted classes for those images.\n",
    "    cls_pred = cls_pred[incorrect]\n",
    "\n",
    "    # Get the true classes for those images.\n",
    "    cls_true = data.test.cls[incorrect]\n",
    "    \n",
    "    # Plot the first 9 images.\n",
    "    img_plot(images=images[0:9],\n",
    "                cls_true=cls_true[0:9],\n",
    "                cls_pred=cls_pred[0:9])"
   ]
  },
  {
   "cell_type": "code",
   "execution_count": 62,
   "metadata": {},
   "outputs": [
    {
     "name": "stdout",
     "output_type": "stream",
     "text": [
      "Accuracy on test-set is :  9.799999743700027\n"
     ]
    }
   ],
   "source": [
    "#Without training, all are predicted as 0, so accuracy is 9.8% (9.8% of all images are 0)\n",
    "print_accuracy()"
   ]
  },
  {
   "cell_type": "code",
   "execution_count": 63,
   "metadata": {},
   "outputs": [
    {
     "name": "stdout",
     "output_type": "stream",
     "text": [
      "Accuracy on test-set is :  34.52000021934509\n"
     ]
    }
   ],
   "source": [
    "#Run the optimize function for one iteration\n",
    "optimize(num_iterations=1)\n",
    "print_accuracy()\n",
    "#20% accuracy after one iteration"
   ]
  },
  {
   "cell_type": "code",
   "execution_count": 64,
   "metadata": {},
   "outputs": [
    {
     "data": {
      "image/png": "[encoded data removed]",
      "text/plain": [
       "<matplotlib.figure.Figure at 0x2b5cbc64668>"
      ]
     },
     "metadata": {},
     "output_type": "display_data"
    }
   ],
   "source": [
    "plot_example_errors()\n",
    "#Model is pretty bad, so we train for more iterations"
   ]
  },
  {
   "cell_type": "code",
   "execution_count": 65,
   "metadata": {},
   "outputs": [
    {
     "name": "stdout",
     "output_type": "stream",
     "text": [
      "Accuracy on test-set is :  73.0400025844574\n",
      "Wall time: 373 ms\n"
     ]
    }
   ],
   "source": [
    "%%time\n",
    "optimize(num_iterations=99)\n",
    "#Total 100 iterations now\n",
    "print_accuracy()"
   ]
  },
  {
   "cell_type": "code",
   "execution_count": 66,
   "metadata": {},
   "outputs": [
    {
     "name": "stdout",
     "output_type": "stream",
     "text": [
      "Accuracy on test-set is :  86.58999800682068\n"
     ]
    }
   ],
   "source": [
    "optimize(num_iterations=900)\n",
    "#Total 1000 iterations now\n",
    "print_accuracy()"
   ]
  },
  {
   "cell_type": "code",
   "execution_count": 67,
   "metadata": {},
   "outputs": [],
   "source": [
    "optimize(num_iterations=9000)\n",
    "#10000 iterations total"
   ]
  },
  {
   "cell_type": "code",
   "execution_count": 68,
   "metadata": {},
   "outputs": [
    {
     "name": "stdout",
     "output_type": "stream",
     "text": [
      "Accuracy on test-set is :  90.57000279426575\n"
     ]
    }
   ],
   "source": [
    "print_accuracy()"
   ]
  },
  {
   "cell_type": "code",
   "execution_count": 69,
   "metadata": {},
   "outputs": [
    {
     "name": "stdout",
     "output_type": "stream",
     "text": [
      "[[ 944    0    1    2    1   14    9    1    7    1]\n",
      " [   0 1108    5    2    0    1    4    1   14    0]\n",
      " [   6   14  901   26    5    6   21    6   43    4]\n",
      " [   3    1   14  880    0   73    5    8   24    2]\n",
      " [   1    3    6    6  815    6   28    9   31   77]\n",
      " [   6    3    1   26    4  796   20    1   32    3]\n",
      " [   5    4    6    4    2   19  913    1    4    0]\n",
      " [   2   11   21   20    2    4    1  911   11   45]\n",
      " [   5    8    5   27    5   39   10    3  869    3]\n",
      " [   7    5    1   12    7   16    0   13   28  920]]\n"
     ]
    },
    {
     "data": {
      "image/png": "[encoded data removed]",
      "text/plain": [
       "<matplotlib.figure.Figure at 0x2b5cbc640f0>"
      ]
     },
     "metadata": {},
     "output_type": "display_data"
    }
   ],
   "source": [
    "#We can see that 4 is often being predicted as 9 and 3 as 5, understandable\n",
    "print_confusion_matrix()"
   ]
  },
  {
   "cell_type": "code",
   "execution_count": 70,
   "metadata": {},
   "outputs": [],
   "source": [
    "session.close()"
   ]
  },
  {
   "cell_type": "markdown",
   "metadata": {},
   "source": [
    "10000 iterations with RMSProp gives us 90.57% accuracy"
   ]
  },
  {
   "cell_type": "markdown",
   "metadata": {},
   "source": [
    "Credit to Hvass Laboratories (https://www.youtube.com/user/hvasslabs)"
   ]
  },
  {
   "cell_type": "code",
   "execution_count": null,
   "metadata": {},
   "outputs": [],
   "source": []
  }
 ],
 "metadata": {
  "kernelspec": {
   "display_name": "Python 3",
   "language": "python",
   "name": "python3"
  },
  "language_info": {
   "codemirror_mode": {
    "name": "ipython",
    "version": 3
   },
   "file_extension": ".py",
   "mimetype": "text/x-python",
   "name": "python",
   "nbconvert_exporter": "python",
   "pygments_lexer": "ipython3",
   "version": "3.5.5"
  }
 },
 "nbformat": 4,
 "nbformat_minor": 2
}
